{
 "cells": [
  {
   "cell_type": "code",
   "execution_count": 1,
   "id": "e440e1fe",
   "metadata": {},
   "outputs": [],
   "source": [
    "# import SQL Alchemy\n",
    "from sqlalchemy import create_engine\n",
    "\n",
    "# Import and establesh BAse for which classes will be constructed\n",
    "from sqlalchemy.ext.declarative import declarative_base\n",
    "Base = declarative_base()\n",
    "\n",
    "# Python SQL toolkit and Object Relational Mapper\n",
    "import sqlalchemy\n",
    "from sqlalchemy.ext.automap import automap_base\n",
    "\n",
    "# Import modules to declare columns and column data type\n",
    "from sqlalchemy import Column, Integer, String\n",
    "\n",
    "# Import Session to push objects made and query the server.\n",
    "from sqlalchemy.orm import Session\n",
    "\n",
    "import pandas as pd"
   ]
  },
  {
   "cell_type": "code",
   "execution_count": 2,
   "id": "f54d437a",
   "metadata": {},
   "outputs": [],
   "source": [
    "# Create Accident Class\n",
    "class Accident(Base):\n",
    "    __tablename__ = \"accidents\"\n",
    "    id = Column(Integer,primary_key=True)\n",
    "    case_num = Column(Integer)\n",
    "    veh_num = Column(Integer)\n",
    "    region = Column(String)\n",
    "    region_num = Column(Integer)\n",
    "    month = Column(String)\n",
    "    hour = Column(String)\n",
    "    make = Column(String)\n",
    "    passenger_inj = Column(String)\n",
    "    num_injured = Column(Integer)\n",
    "    alcohol_involved = Column(String)\n",
    "    situation = Column(String,)\n",
    "    road_condition = Column(String)\n",
    "    veh_damage = Column(String)"
   ]
  },
  {
   "cell_type": "code",
   "execution_count": 3,
   "id": "f8ffd385",
   "metadata": {},
   "outputs": [],
   "source": [
    "# Create and establish Database Connection\n",
    "engine = create_engine(\"sqlite:///accidents.sqlite\")\n",
    "conn = engine.connect()\n",
    "\n",
    "# Create Accident table within the database\n",
    "Base.metadata.create_all(conn)"
   ]
  },
  {
   "cell_type": "code",
   "execution_count": 4,
   "id": "3bdfc092",
   "metadata": {},
   "outputs": [],
   "source": [
    "# Create Session to push the objects made and query the server.\n",
    "session = Session(bind=engine)"
   ]
  },
  {
   "cell_type": "markdown",
   "id": "98d3e9cb",
   "metadata": {},
   "source": [
    "# Readig csv file"
   ]
  },
  {
   "cell_type": "code",
   "execution_count": 5,
   "id": "2ce88d35",
   "metadata": {},
   "outputs": [
    {
     "data": {
      "text/html": [
       "<div>\n",
       "<style scoped>\n",
       "    .dataframe tbody tr th:only-of-type {\n",
       "        vertical-align: middle;\n",
       "    }\n",
       "\n",
       "    .dataframe tbody tr th {\n",
       "        vertical-align: top;\n",
       "    }\n",
       "\n",
       "    .dataframe thead th {\n",
       "        text-align: right;\n",
       "    }\n",
       "</style>\n",
       "<table border=\"1\" class=\"dataframe\">\n",
       "  <thead>\n",
       "    <tr style=\"text-align: right;\">\n",
       "      <th></th>\n",
       "      <th>CASENUM</th>\n",
       "      <th>VEH_NO</th>\n",
       "      <th>REGIONNAME</th>\n",
       "      <th>REGION</th>\n",
       "      <th>MONTHNAME</th>\n",
       "      <th>HOURNAME</th>\n",
       "      <th>MAKENAME</th>\n",
       "      <th>MXVSEV_IMNAME</th>\n",
       "      <th>NUMINJ_IM</th>\n",
       "      <th>V_ALCH_IMNAME</th>\n",
       "      <th>PCRASH1_IMNAME</th>\n",
       "      <th>VSURCONDNAME</th>\n",
       "      <th>DEFORMEDNAME</th>\n",
       "    </tr>\n",
       "  </thead>\n",
       "  <tbody>\n",
       "    <tr>\n",
       "      <th>0</th>\n",
       "      <td>2.019012e+11</td>\n",
       "      <td>1</td>\n",
       "      <td>South (MD, DE, DC, WV, VA, KY, TN, NC, SC, GA,...</td>\n",
       "      <td>3</td>\n",
       "      <td>January</td>\n",
       "      <td>8:00am-8:59am</td>\n",
       "      <td>Ford</td>\n",
       "      <td>No Apparent Injury (O)</td>\n",
       "      <td>0</td>\n",
       "      <td>No Alcohol Involved</td>\n",
       "      <td>Accelerating in Road</td>\n",
       "      <td>Wet</td>\n",
       "      <td>Disabling Damage</td>\n",
       "    </tr>\n",
       "    <tr>\n",
       "      <th>1</th>\n",
       "      <td>2.019012e+11</td>\n",
       "      <td>1</td>\n",
       "      <td>South (MD, DE, DC, WV, VA, KY, TN, NC, SC, GA,...</td>\n",
       "      <td>3</td>\n",
       "      <td>January</td>\n",
       "      <td>2:00am-2:59am</td>\n",
       "      <td>Dodge</td>\n",
       "      <td>Possible Injury (C)</td>\n",
       "      <td>1</td>\n",
       "      <td>No Alcohol Involved</td>\n",
       "      <td>Going Straight</td>\n",
       "      <td>Dry</td>\n",
       "      <td>Functional Damage</td>\n",
       "    </tr>\n",
       "    <tr>\n",
       "      <th>2</th>\n",
       "      <td>2.019012e+11</td>\n",
       "      <td>2</td>\n",
       "      <td>South (MD, DE, DC, WV, VA, KY, TN, NC, SC, GA,...</td>\n",
       "      <td>3</td>\n",
       "      <td>January</td>\n",
       "      <td>2:00am-2:59am</td>\n",
       "      <td>Honda</td>\n",
       "      <td>Possible Injury (C)</td>\n",
       "      <td>1</td>\n",
       "      <td>No Alcohol Involved</td>\n",
       "      <td>Going Straight</td>\n",
       "      <td>Dry</td>\n",
       "      <td>Minor Damage</td>\n",
       "    </tr>\n",
       "    <tr>\n",
       "      <th>3</th>\n",
       "      <td>2.019012e+11</td>\n",
       "      <td>1</td>\n",
       "      <td>South (MD, DE, DC, WV, VA, KY, TN, NC, SC, GA,...</td>\n",
       "      <td>3</td>\n",
       "      <td>January</td>\n",
       "      <td>5:00am-5:59am</td>\n",
       "      <td>Nissan/Datsun</td>\n",
       "      <td>Suspected Minor Injury (B)</td>\n",
       "      <td>1</td>\n",
       "      <td>Alcohol Involved</td>\n",
       "      <td>Changing Lanes</td>\n",
       "      <td>Dry</td>\n",
       "      <td>Disabling Damage</td>\n",
       "    </tr>\n",
       "    <tr>\n",
       "      <th>4</th>\n",
       "      <td>2.019012e+11</td>\n",
       "      <td>2</td>\n",
       "      <td>South (MD, DE, DC, WV, VA, KY, TN, NC, SC, GA,...</td>\n",
       "      <td>3</td>\n",
       "      <td>January</td>\n",
       "      <td>5:00am-5:59am</td>\n",
       "      <td>Chevrolet</td>\n",
       "      <td>Possible Injury (C)</td>\n",
       "      <td>1</td>\n",
       "      <td>No Alcohol Involved</td>\n",
       "      <td>Turning Left</td>\n",
       "      <td>Non-Trafficway or Driveway Access</td>\n",
       "      <td>Disabling Damage</td>\n",
       "    </tr>\n",
       "  </tbody>\n",
       "</table>\n",
       "</div>"
      ],
      "text/plain": [
       "        CASENUM  VEH_NO                                         REGIONNAME  \\\n",
       "0  2.019012e+11       1  South (MD, DE, DC, WV, VA, KY, TN, NC, SC, GA,...   \n",
       "1  2.019012e+11       1  South (MD, DE, DC, WV, VA, KY, TN, NC, SC, GA,...   \n",
       "2  2.019012e+11       2  South (MD, DE, DC, WV, VA, KY, TN, NC, SC, GA,...   \n",
       "3  2.019012e+11       1  South (MD, DE, DC, WV, VA, KY, TN, NC, SC, GA,...   \n",
       "4  2.019012e+11       2  South (MD, DE, DC, WV, VA, KY, TN, NC, SC, GA,...   \n",
       "\n",
       "   REGION MONTHNAME       HOURNAME       MAKENAME               MXVSEV_IMNAME  \\\n",
       "0       3   January  8:00am-8:59am           Ford      No Apparent Injury (O)   \n",
       "1       3   January  2:00am-2:59am          Dodge         Possible Injury (C)   \n",
       "2       3   January  2:00am-2:59am          Honda         Possible Injury (C)   \n",
       "3       3   January  5:00am-5:59am  Nissan/Datsun  Suspected Minor Injury (B)   \n",
       "4       3   January  5:00am-5:59am      Chevrolet         Possible Injury (C)   \n",
       "\n",
       "   NUMINJ_IM        V_ALCH_IMNAME        PCRASH1_IMNAME  \\\n",
       "0          0  No Alcohol Involved  Accelerating in Road   \n",
       "1          1  No Alcohol Involved        Going Straight   \n",
       "2          1  No Alcohol Involved        Going Straight   \n",
       "3          1     Alcohol Involved        Changing Lanes   \n",
       "4          1  No Alcohol Involved          Turning Left   \n",
       "\n",
       "                        VSURCONDNAME       DEFORMEDNAME  \n",
       "0                                Wet   Disabling Damage  \n",
       "1                                Dry  Functional Damage  \n",
       "2                                Dry       Minor Damage  \n",
       "3                                Dry   Disabling Damage  \n",
       "4  Non-Trafficway or Driveway Access   Disabling Damage  "
      ]
     },
     "execution_count": 5,
     "metadata": {},
     "output_type": "execute_result"
    }
   ],
   "source": [
    "import pandas as pd\n",
    "path = \"Resources/veh_19.csv\"\n",
    "data = pd.read_csv(path)\n",
    "data_df = pd.DataFrame(data)\n",
    "data_df.head()"
   ]
  },
  {
   "cell_type": "code",
   "execution_count": 6,
   "id": "fc0f73a5",
   "metadata": {},
   "outputs": [
    {
     "data": {
      "text/plain": [
       "array(['South (MD, DE, DC, WV, VA, KY, TN, NC, SC, GA, FL, AL, MS, LA, AR, OK, TX)',\n",
       "       'West (MT, ID, WA, OR, CA, NV, NM, AZ, UT, CO, WY, AK, HI)',\n",
       "       'Midwest (OH, IN, IL, MI, WI, MN, ND, SD, NE, IA, MO, KS)',\n",
       "       'Northeast (PA, NJ, NY, NH, VT, RI, MA, ME, CT)'], dtype=object)"
      ]
     },
     "execution_count": 6,
     "metadata": {},
     "output_type": "execute_result"
    }
   ],
   "source": [
    "regions = data_df['REGIONNAME'].unique()\n",
    "regions"
   ]
  },
  {
   "cell_type": "code",
   "execution_count": 7,
   "id": "9270fd2f",
   "metadata": {},
   "outputs": [
    {
     "name": "stderr",
     "output_type": "stream",
     "text": [
      "C:\\Users\\alexp\\anaconda3\\envs\\PythonData\\lib\\site-packages\\ipykernel_launcher.py:6: SettingWithCopyWarning: \n",
      "A value is trying to be set on a copy of a slice from a DataFrame\n",
      "\n",
      "See the caveats in the documentation: https://pandas.pydata.org/pandas-docs/stable/user_guide/indexing.html#returning-a-view-versus-a-copy\n",
      "  \n",
      "C:\\Users\\alexp\\anaconda3\\envs\\PythonData\\lib\\site-packages\\ipykernel_launcher.py:8: SettingWithCopyWarning: \n",
      "A value is trying to be set on a copy of a slice from a DataFrame\n",
      "\n",
      "See the caveats in the documentation: https://pandas.pydata.org/pandas-docs/stable/user_guide/indexing.html#returning-a-view-versus-a-copy\n",
      "  \n",
      "C:\\Users\\alexp\\anaconda3\\envs\\PythonData\\lib\\site-packages\\ipykernel_launcher.py:10: SettingWithCopyWarning: \n",
      "A value is trying to be set on a copy of a slice from a DataFrame\n",
      "\n",
      "See the caveats in the documentation: https://pandas.pydata.org/pandas-docs/stable/user_guide/indexing.html#returning-a-view-versus-a-copy\n",
      "  # Remove the CWD from sys.path while we load stuff.\n",
      "C:\\Users\\alexp\\anaconda3\\envs\\PythonData\\lib\\site-packages\\ipykernel_launcher.py:12: SettingWithCopyWarning: \n",
      "A value is trying to be set on a copy of a slice from a DataFrame\n",
      "\n",
      "See the caveats in the documentation: https://pandas.pydata.org/pandas-docs/stable/user_guide/indexing.html#returning-a-view-versus-a-copy\n",
      "  if sys.path[0] == '':\n"
     ]
    },
    {
     "data": {
      "text/plain": [
       "array(['South', 'West', 'Mid West', 'North East'], dtype=object)"
      ]
     },
     "execution_count": 7,
     "metadata": {},
     "output_type": "execute_result"
    }
   ],
   "source": [
    "# Clean RegionName of the list of states for each region\n",
    "region_name = data_df['REGIONNAME']\n",
    "for i in range(len(data_df['REGIONNAME'])):\n",
    "    row = data_df['REGIONNAME'][i]\n",
    "    if row == regions[0]:\n",
    "        region_name[i] = \"South\"\n",
    "    elif row == regions[1]:\n",
    "        region_name[i] = \"West\"\n",
    "    elif row == regions[2]:\n",
    "        region_name[i] = \"Mid West\"\n",
    "    elif row == regions[3]:\n",
    "        region_name[i] = \"North East\"\n",
    "region_name.unique()"
   ]
  },
  {
   "cell_type": "code",
   "execution_count": 8,
   "id": "4264c5d0",
   "metadata": {},
   "outputs": [
    {
     "data": {
      "text/plain": [
       "array(['South', 'West', 'Mid West', 'North East'], dtype=object)"
      ]
     },
     "execution_count": 8,
     "metadata": {},
     "output_type": "execute_result"
    }
   ],
   "source": [
    "# Assing the region_name to the correct column in the DataFrame\n",
    "data_df['REGIONNAME'] = region_name\n",
    "data_df['REGIONNAME'].unique()"
   ]
  },
  {
   "cell_type": "code",
   "execution_count": 9,
   "id": "84ce5065",
   "metadata": {},
   "outputs": [
    {
     "data": {
      "text/plain": [
       "CASENUM           float64\n",
       "VEH_NO              int64\n",
       "REGIONNAME         object\n",
       "REGION              int64\n",
       "MONTHNAME          object\n",
       "HOURNAME           object\n",
       "MAKENAME           object\n",
       "MXVSEV_IMNAME      object\n",
       "NUMINJ_IM           int64\n",
       "V_ALCH_IMNAME      object\n",
       "PCRASH1_IMNAME     object\n",
       "VSURCONDNAME       object\n",
       "DEFORMEDNAME       object\n",
       "dtype: object"
      ]
     },
     "execution_count": 9,
     "metadata": {},
     "output_type": "execute_result"
    }
   ],
   "source": [
    "data_df.dtypes"
   ]
  },
  {
   "cell_type": "code",
   "execution_count": 10,
   "id": "7ae7518a",
   "metadata": {},
   "outputs": [],
   "source": [
    "data_df = data_df.astype({\"CASENUM\":\"int64\"})"
   ]
  },
  {
   "cell_type": "code",
   "execution_count": 11,
   "id": "cdcef216",
   "metadata": {},
   "outputs": [
    {
     "data": {
      "text/plain": [
       "CASENUM            int64\n",
       "VEH_NO             int64\n",
       "REGIONNAME        object\n",
       "REGION             int64\n",
       "MONTHNAME         object\n",
       "HOURNAME          object\n",
       "MAKENAME          object\n",
       "MXVSEV_IMNAME     object\n",
       "NUMINJ_IM          int64\n",
       "V_ALCH_IMNAME     object\n",
       "PCRASH1_IMNAME    object\n",
       "VSURCONDNAME      object\n",
       "DEFORMEDNAME      object\n",
       "dtype: object"
      ]
     },
     "execution_count": 11,
     "metadata": {},
     "output_type": "execute_result"
    }
   ],
   "source": [
    "data_df.dtypes"
   ]
  },
  {
   "cell_type": "markdown",
   "id": "a152a778",
   "metadata": {},
   "source": [
    "# From DataFrame to Database"
   ]
  },
  {
   "cell_type": "code",
   "execution_count": 12,
   "id": "81c269e6",
   "metadata": {},
   "outputs": [],
   "source": [
    "for i in range(len(data_df.index)):\n",
    "    \n",
    "    # Create instance of the accident\n",
    "    accident = Accident(\n",
    "    id = i,\n",
    "    case_num = int(data_df['CASENUM'][i]),\n",
    "    veh_num = int(data_df['VEH_NO'][i]),\n",
    "    region = data_df['REGIONNAME'][i],\n",
    "    region_num = int(data_df['REGION'][i]),\n",
    "    month = data_df['MONTHNAME'][i],\n",
    "    hour = data_df['HOURNAME'][i],\n",
    "    make = data_df['MAKENAME'][i],\n",
    "    passenger_inj = data_df['MXVSEV_IMNAME'][i],\n",
    "    num_injured = int(data_df['NUMINJ_IM'][i]),\n",
    "    alcohol_involved = data_df['V_ALCH_IMNAME'][i],\n",
    "    situation = data_df['PCRASH1_IMNAME'][i],\n",
    "    road_condition = data_df['VSURCONDNAME'][i],\n",
    "    veh_damage = data_df['DEFORMEDNAME'][i])\n",
    "    \n",
    "    # Add accident 'i' to the Database\n",
    "    session.add(accident)\n",
    "    # commit object to the Database\n",
    "    session.commit()"
   ]
  },
  {
   "cell_type": "code",
   "execution_count": 13,
   "id": "f6259bce",
   "metadata": {},
   "outputs": [
    {
     "data": {
      "text/plain": [
       "201901176655"
      ]
     },
     "execution_count": 13,
     "metadata": {},
     "output_type": "execute_result"
    }
   ],
   "source": [
    "data_df[\"CASENUM\"][2]"
   ]
  },
  {
   "cell_type": "code",
   "execution_count": 14,
   "id": "1eb0a1c8",
   "metadata": {},
   "outputs": [
    {
     "name": "stdout",
     "output_type": "stream",
     "text": [
      "<__main__.Accident object at 0x000001D13379FAC8>\n",
      "<__main__.Accident object at 0x000001D13379FBC8>\n",
      "<__main__.Accident object at 0x000001D13379FC48>\n",
      "<__main__.Accident object at 0x000001D13379FCC8>\n"
     ]
    }
   ],
   "source": [
    "for row in session.query(Accident).filter(Accident.id <= 3).all():\n",
    "    print(row)"
   ]
  },
  {
   "cell_type": "code",
   "execution_count": 15,
   "id": "eb6e8737",
   "metadata": {},
   "outputs": [],
   "source": [
    "# Python SQL toolkit and Object Relational Mapper\n",
    "import sqlalchemy\n",
    "from sqlalchemy.ext.automap import automap_base"
   ]
  },
  {
   "cell_type": "code",
   "execution_count": 16,
   "id": "9eee3019",
   "metadata": {},
   "outputs": [
    {
     "data": {
      "text/plain": [
       "[(0, 201901174219, 1, 'South', 3, 'January', '8:00am-8:59am', 'Ford', 'No Apparent Injury (O)', 0, 'No Alcohol Involved', 'Accelerating in Road', 'Wet', 'Disabling Damage'),\n",
       " (1, 201901176655, 1, 'South', 3, 'January', '2:00am-2:59am', 'Dodge', 'Possible Injury (C)', 1, 'No Alcohol Involved', 'Going Straight', 'Dry', 'Functional Damage'),\n",
       " (2, 201901176655, 2, 'South', 3, 'January', '2:00am-2:59am', 'Honda', 'Possible Injury (C)', 1, 'No Alcohol Involved', 'Going Straight', 'Dry', 'Minor Damage'),\n",
       " (3, 201901176667, 1, 'South', 3, 'January', '5:00am-5:59am', 'Nissan/Datsun', 'Suspected Minor Injury (B)', 1, 'Alcohol Involved', 'Changing Lanes', 'Dry', 'Disabling Damage'),\n",
       " (4, 201901176667, 2, 'South', 3, 'January', '5:00am-5:59am', 'Chevrolet', 'Possible Injury (C)', 1, 'No Alcohol Involved', 'Turning Left', 'Non-Trafficway or Driveway Access', 'Disabling Damage'),\n",
       " (5, 201901176694, 1, 'South', 3, 'January', '4:00am-4:59am', 'Mazda', 'No Apparent Injury (O)', 0, 'No Alcohol Involved', 'Going Straight', 'Dry', 'Disabling Damage'),\n",
       " (6, 201901176702, 1, 'South', 3, 'January', '9:00am-9:59am', 'Toyota', 'No Apparent Injury (O)', 0, 'No Alcohol Involved', 'Turning Left', 'Dry', 'Minor Damage'),\n",
       " (7, 201901176702, 2, 'South', 3, 'January', '9:00am-9:59am', 'Toyota', 'Possible Injury (C)', 1, 'No Alcohol Involved', 'Turning Left', 'Dry', 'Minor Damage'),\n",
       " (8, 201901176716, 1, 'South', 3, 'January', '7:00pm-7:59pm', 'Volvo', 'Suspected Serious Injury (A)', 1, 'No Alcohol Involved', 'Going Straight', 'Dry', 'Disabling Damage'),\n",
       " (9, 201901176716, 2, 'South', 3, 'January', '7:00pm-7:59pm', 'Peterbilt', 'No Apparent Injury (O)', 0, 'No Alcohol Involved', 'Backing Up (other than for Parking Position)', 'Dry', 'Minor Damage')]"
      ]
     },
     "execution_count": 16,
     "metadata": {},
     "output_type": "execute_result"
    }
   ],
   "source": [
    "engine.execute(\"SELECT * FROM accidents LIMIT 10\").fetchall()"
   ]
  },
  {
   "cell_type": "code",
   "execution_count": null,
   "id": "0e5f3d4f",
   "metadata": {},
   "outputs": [],
   "source": []
  }
 ],
 "metadata": {
  "kernelspec": {
   "display_name": "PythonData",
   "language": "python",
   "name": "pythondata"
  },
  "language_info": {
   "codemirror_mode": {
    "name": "ipython",
    "version": 3
   },
   "file_extension": ".py",
   "mimetype": "text/x-python",
   "name": "python",
   "nbconvert_exporter": "python",
   "pygments_lexer": "ipython3",
   "version": "3.7.7"
  }
 },
 "nbformat": 4,
 "nbformat_minor": 5
}
