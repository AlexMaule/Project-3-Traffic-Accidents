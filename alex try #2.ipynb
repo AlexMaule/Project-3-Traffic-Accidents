{
 "cells": [
  {
   "cell_type": "code",
   "execution_count": 1,
   "id": "6b298975",
   "metadata": {},
   "outputs": [],
   "source": [
    "# import SQL Alchemy\n",
    "from sqlalchemy import create_engine\n",
    "\n",
    "# Import and establesh BAse for which classes will be constructed\n",
    "from sqlalchemy.ext.declarative import declarative_base\n",
    "Base = declarative_base()\n",
    "\n",
    "# Import modules to declare columns and column data type\n",
    "from sqlalchemy import Column, Integer, String\n",
    "\n",
    "# Import Session to push objects made and query the server.\n",
    "from sqlalchemy.orm import Session\n",
    "\n",
    "import pandas as pd"
   ]
  },
  {
   "cell_type": "code",
   "execution_count": 2,
   "id": "cafca167",
   "metadata": {},
   "outputs": [],
   "source": [
    "# Create Accident Class\n",
    "class Accident(Base):\n",
    "    __tablename__ = \"accidents\"\n",
    "    id = Column(Integer,primary_key=True)\n",
    "    case_num = Column(Integer)\n",
    "    veh_num = Column(Integer)\n",
    "    region = Column(String)\n",
    "    region_num = Column(Integer)\n",
    "    month = Column(String)\n",
    "    hour = Column(String)\n",
    "    make = Column(String)\n",
    "    passenger_inj = Column(String)\n",
    "    num_injured = Column(Integer)\n",
    "    alcohol_involved = Column(String)\n",
    "    situation = Column(String,)\n",
    "    road_condition = Column(String)\n",
    "    veh_damage = Column(String)"
   ]
  },
  {
   "cell_type": "code",
   "execution_count": 3,
   "id": "6c2f385a",
   "metadata": {},
   "outputs": [],
   "source": [
    "# Create and establish Database Connection\n",
    "engine = create_engine(\"sqlite:///accidents.sqlite\")\n",
    "conn = engine.connect()\n",
    "\n",
    "# Create Accident table within the database\n",
    "Base.metadata.create_all(conn)"
   ]
  },
  {
   "cell_type": "code",
   "execution_count": 4,
   "id": "b57227c5",
   "metadata": {},
   "outputs": [],
   "source": [
    "# Create Session to push the objects made and query the server.\n",
    "session = Session(bind=engine)"
   ]
  },
  {
   "cell_type": "markdown",
   "id": "f1950752",
   "metadata": {},
   "source": [
    "# Readig csv file"
   ]
  },
  {
   "cell_type": "code",
   "execution_count": 5,
   "id": "47435c89",
   "metadata": {},
   "outputs": [
    {
     "data": {
      "text/html": [
       "<div>\n",
       "<style scoped>\n",
       "    .dataframe tbody tr th:only-of-type {\n",
       "        vertical-align: middle;\n",
       "    }\n",
       "\n",
       "    .dataframe tbody tr th {\n",
       "        vertical-align: top;\n",
       "    }\n",
       "\n",
       "    .dataframe thead th {\n",
       "        text-align: right;\n",
       "    }\n",
       "</style>\n",
       "<table border=\"1\" class=\"dataframe\">\n",
       "  <thead>\n",
       "    <tr style=\"text-align: right;\">\n",
       "      <th></th>\n",
       "      <th>CASENUM</th>\n",
       "      <th>VEH_NO</th>\n",
       "      <th>REGIONNAME</th>\n",
       "      <th>REGION</th>\n",
       "      <th>MONTHNAME</th>\n",
       "      <th>HOURNAME</th>\n",
       "      <th>MAKENAME</th>\n",
       "      <th>MXVSEV_IMNAME</th>\n",
       "      <th>NUMINJ_IM</th>\n",
       "      <th>V_ALCH_IMNAME</th>\n",
       "      <th>PCRASH1_IMNAME</th>\n",
       "      <th>VSURCONDNAME</th>\n",
       "      <th>DEFORMEDNAME</th>\n",
       "    </tr>\n",
       "  </thead>\n",
       "  <tbody>\n",
       "    <tr>\n",
       "      <th>0</th>\n",
       "      <td>2.019012e+11</td>\n",
       "      <td>1</td>\n",
       "      <td>South (MD, DE, DC, WV, VA, KY, TN, NC, SC, GA,...</td>\n",
       "      <td>3</td>\n",
       "      <td>January</td>\n",
       "      <td>8:00am-8:59am</td>\n",
       "      <td>Ford</td>\n",
       "      <td>No Apparent Injury (O)</td>\n",
       "      <td>0</td>\n",
       "      <td>No Alcohol Involved</td>\n",
       "      <td>Accelerating in Road</td>\n",
       "      <td>Wet</td>\n",
       "      <td>Disabling Damage</td>\n",
       "    </tr>\n",
       "    <tr>\n",
       "      <th>1</th>\n",
       "      <td>2.019012e+11</td>\n",
       "      <td>1</td>\n",
       "      <td>South (MD, DE, DC, WV, VA, KY, TN, NC, SC, GA,...</td>\n",
       "      <td>3</td>\n",
       "      <td>January</td>\n",
       "      <td>2:00am-2:59am</td>\n",
       "      <td>Dodge</td>\n",
       "      <td>Possible Injury (C)</td>\n",
       "      <td>1</td>\n",
       "      <td>No Alcohol Involved</td>\n",
       "      <td>Going Straight</td>\n",
       "      <td>Dry</td>\n",
       "      <td>Functional Damage</td>\n",
       "    </tr>\n",
       "    <tr>\n",
       "      <th>2</th>\n",
       "      <td>2.019012e+11</td>\n",
       "      <td>2</td>\n",
       "      <td>South (MD, DE, DC, WV, VA, KY, TN, NC, SC, GA,...</td>\n",
       "      <td>3</td>\n",
       "      <td>January</td>\n",
       "      <td>2:00am-2:59am</td>\n",
       "      <td>Honda</td>\n",
       "      <td>Possible Injury (C)</td>\n",
       "      <td>1</td>\n",
       "      <td>No Alcohol Involved</td>\n",
       "      <td>Going Straight</td>\n",
       "      <td>Dry</td>\n",
       "      <td>Minor Damage</td>\n",
       "    </tr>\n",
       "    <tr>\n",
       "      <th>3</th>\n",
       "      <td>2.019012e+11</td>\n",
       "      <td>1</td>\n",
       "      <td>South (MD, DE, DC, WV, VA, KY, TN, NC, SC, GA,...</td>\n",
       "      <td>3</td>\n",
       "      <td>January</td>\n",
       "      <td>5:00am-5:59am</td>\n",
       "      <td>Nissan/Datsun</td>\n",
       "      <td>Suspected Minor Injury (B)</td>\n",
       "      <td>1</td>\n",
       "      <td>Alcohol Involved</td>\n",
       "      <td>Changing Lanes</td>\n",
       "      <td>Dry</td>\n",
       "      <td>Disabling Damage</td>\n",
       "    </tr>\n",
       "    <tr>\n",
       "      <th>4</th>\n",
       "      <td>2.019012e+11</td>\n",
       "      <td>2</td>\n",
       "      <td>South (MD, DE, DC, WV, VA, KY, TN, NC, SC, GA,...</td>\n",
       "      <td>3</td>\n",
       "      <td>January</td>\n",
       "      <td>5:00am-5:59am</td>\n",
       "      <td>Chevrolet</td>\n",
       "      <td>Possible Injury (C)</td>\n",
       "      <td>1</td>\n",
       "      <td>No Alcohol Involved</td>\n",
       "      <td>Turning Left</td>\n",
       "      <td>Non-Trafficway or Driveway Access</td>\n",
       "      <td>Disabling Damage</td>\n",
       "    </tr>\n",
       "  </tbody>\n",
       "</table>\n",
       "</div>"
      ],
      "text/plain": [
       "        CASENUM  VEH_NO                                         REGIONNAME  \\\n",
       "0  2.019012e+11       1  South (MD, DE, DC, WV, VA, KY, TN, NC, SC, GA,...   \n",
       "1  2.019012e+11       1  South (MD, DE, DC, WV, VA, KY, TN, NC, SC, GA,...   \n",
       "2  2.019012e+11       2  South (MD, DE, DC, WV, VA, KY, TN, NC, SC, GA,...   \n",
       "3  2.019012e+11       1  South (MD, DE, DC, WV, VA, KY, TN, NC, SC, GA,...   \n",
       "4  2.019012e+11       2  South (MD, DE, DC, WV, VA, KY, TN, NC, SC, GA,...   \n",
       "\n",
       "   REGION MONTHNAME       HOURNAME       MAKENAME               MXVSEV_IMNAME  \\\n",
       "0       3   January  8:00am-8:59am           Ford      No Apparent Injury (O)   \n",
       "1       3   January  2:00am-2:59am          Dodge         Possible Injury (C)   \n",
       "2       3   January  2:00am-2:59am          Honda         Possible Injury (C)   \n",
       "3       3   January  5:00am-5:59am  Nissan/Datsun  Suspected Minor Injury (B)   \n",
       "4       3   January  5:00am-5:59am      Chevrolet         Possible Injury (C)   \n",
       "\n",
       "   NUMINJ_IM        V_ALCH_IMNAME        PCRASH1_IMNAME  \\\n",
       "0          0  No Alcohol Involved  Accelerating in Road   \n",
       "1          1  No Alcohol Involved        Going Straight   \n",
       "2          1  No Alcohol Involved        Going Straight   \n",
       "3          1     Alcohol Involved        Changing Lanes   \n",
       "4          1  No Alcohol Involved          Turning Left   \n",
       "\n",
       "                        VSURCONDNAME       DEFORMEDNAME  \n",
       "0                                Wet   Disabling Damage  \n",
       "1                                Dry  Functional Damage  \n",
       "2                                Dry       Minor Damage  \n",
       "3                                Dry   Disabling Damage  \n",
       "4  Non-Trafficway or Driveway Access   Disabling Damage  "
      ]
     },
     "execution_count": 5,
     "metadata": {},
     "output_type": "execute_result"
    }
   ],
   "source": [
    "import pandas as pd\n",
    "path = \"Resources/veh_19.csv\"\n",
    "data = pd.read_csv(path)\n",
    "data_df = pd.DataFrame(data)\n",
    "data_df.head()"
   ]
  },
  {
   "cell_type": "code",
   "execution_count": 10,
   "id": "3a92ff8d",
   "metadata": {},
   "outputs": [
    {
     "data": {
      "text/plain": [
       "array(['South (MD, DE, DC, WV, VA, KY, TN, NC, SC, GA, FL, AL, MS, LA, AR, OK, TX)',\n",
       "       'West (MT, ID, WA, OR, CA, NV, NM, AZ, UT, CO, WY, AK, HI)',\n",
       "       'Midwest (OH, IN, IL, MI, WI, MN, ND, SD, NE, IA, MO, KS)',\n",
       "       'Northeast (PA, NJ, NY, NH, VT, RI, MA, ME, CT)'], dtype=object)"
      ]
     },
     "execution_count": 10,
     "metadata": {},
     "output_type": "execute_result"
    }
   ],
   "source": [
    "regions = data_df['REGIONNAME'].unique()\n",
    "regions"
   ]
  },
  {
   "cell_type": "code",
   "execution_count": 14,
   "id": "324e80e4",
   "metadata": {},
   "outputs": [
    {
     "data": {
      "text/plain": [
       "array(['South', 'West', 'Mid West', 'North East'], dtype=object)"
      ]
     },
     "execution_count": 14,
     "metadata": {},
     "output_type": "execute_result"
    }
   ],
   "source": [
    "# Clean RegionName of the list of states for each region\n",
    "region_name = data_df['REGIONNAME']\n",
    "for i in range(len(data_df['REGIONNAME'])):\n",
    "    row = data_df['REGIONNAME'][i]\n",
    "    if row == regions[0]:\n",
    "        region_name[i] = \"South\"\n",
    "    elif row == regions[1]:\n",
    "        region_name[i] = \"West\"\n",
    "    elif row == regions[2]:\n",
    "        region_name[i] = \"Mid West\"\n",
    "    elif row == regions[3]:\n",
    "        region_name[i] = \"North East\"\n",
    "region_name.unique()"
   ]
  },
  {
   "cell_type": "code",
   "execution_count": 16,
   "id": "bb60b986",
   "metadata": {},
   "outputs": [
    {
     "data": {
      "text/plain": [
       "array(['South', 'West', 'Mid West', 'North East'], dtype=object)"
      ]
     },
     "execution_count": 16,
     "metadata": {},
     "output_type": "execute_result"
    }
   ],
   "source": [
    "# Assing the region_name to the correct column in the DataFrame\n",
    "data_df['REGIONNAME'] = region_name\n",
    "data_df['REGIONNAME'].unique()"
   ]
  },
  {
   "cell_type": "code",
   "execution_count": 19,
   "id": "bd0ad972",
   "metadata": {},
   "outputs": [
    {
     "data": {
      "text/plain": [
       "CASENUM           float64\n",
       "VEH_NO              int64\n",
       "REGIONNAME         object\n",
       "REGION              int64\n",
       "MONTHNAME          object\n",
       "HOURNAME           object\n",
       "MAKENAME           object\n",
       "MXVSEV_IMNAME      object\n",
       "NUMINJ_IM           int64\n",
       "V_ALCH_IMNAME      object\n",
       "PCRASH1_IMNAME     object\n",
       "VSURCONDNAME       object\n",
       "DEFORMEDNAME       object\n",
       "dtype: object"
      ]
     },
     "execution_count": 19,
     "metadata": {},
     "output_type": "execute_result"
    }
   ],
   "source": [
    "data_df.dtypes"
   ]
  },
  {
   "cell_type": "code",
   "execution_count": 24,
   "id": "daab61dd",
   "metadata": {},
   "outputs": [],
   "source": [
    "data_df = data_df.astype({\"CASENUM\":\"int64\"})"
   ]
  },
  {
   "cell_type": "code",
   "execution_count": 25,
   "id": "95624403",
   "metadata": {},
   "outputs": [
    {
     "data": {
      "text/plain": [
       "CASENUM            int64\n",
       "VEH_NO             int64\n",
       "REGIONNAME        object\n",
       "REGION             int64\n",
       "MONTHNAME         object\n",
       "HOURNAME          object\n",
       "MAKENAME          object\n",
       "MXVSEV_IMNAME     object\n",
       "NUMINJ_IM          int64\n",
       "V_ALCH_IMNAME     object\n",
       "PCRASH1_IMNAME    object\n",
       "VSURCONDNAME      object\n",
       "DEFORMEDNAME      object\n",
       "dtype: object"
      ]
     },
     "execution_count": 25,
     "metadata": {},
     "output_type": "execute_result"
    }
   ],
   "source": [
    "data_df.dtypes"
   ]
  },
  {
   "cell_type": "markdown",
   "id": "ce7b0b50",
   "metadata": {},
   "source": [
    "# From DataFrame to Database"
   ]
  },
  {
   "cell_type": "code",
   "execution_count": 26,
   "id": "8d59bb95",
   "metadata": {},
   "outputs": [],
   "source": [
    "for i in range(len(data_df.index)):\n",
    "    \n",
    "    # Create instance of the accident\n",
    "    accident = Accident(\n",
    "    id = i,\n",
    "    case_num = data_df['CASENUM'][i],\n",
    "    veh_num = data_df['VEH_NO'][i],\n",
    "    region = data_df['REGIONNAME'][i],\n",
    "    region_num = data_df['REGION'][i],\n",
    "    month = data_df['MONTHNAME'][i],\n",
    "    hour = data_df['HOURNAME'][i],\n",
    "    make = data_df['MAKENAME'][i],\n",
    "    passenger_inj = data_df['MXVSEV_IMNAME'][i],\n",
    "    num_injured = data_df['NUMINJ_IM'][i],\n",
    "    alcohol_involved = data_df['V_ALCH_IMNAME'][i],\n",
    "    situation = data_df['PCRASH1_IMNAME'][i],\n",
    "    road_condition = data_df['VSURCONDNAME'][i],\n",
    "    veh_damage = data_df['DEFORMEDNAME'][i])\n",
    "    \n",
    "    # Add accident 'i' to the Database\n",
    "    session.add(accident)\n",
    "    # commit object to the Database\n",
    "    session.commit()"
   ]
  },
  {
   "cell_type": "code",
   "execution_count": 28,
   "id": "83558812",
   "metadata": {},
   "outputs": [
    {
     "data": {
      "text/plain": [
       "201901176655"
      ]
     },
     "execution_count": 28,
     "metadata": {},
     "output_type": "execute_result"
    }
   ],
   "source": [
    "data_df[\"CASENUM\"][2]"
   ]
  },
  {
   "cell_type": "code",
   "execution_count": 46,
   "id": "c570291d",
   "metadata": {},
   "outputs": [
    {
     "name": "stdout",
     "output_type": "stream",
     "text": [
      "<__main__.Accident object at 0x00000252B74B0888>\n",
      "<__main__.Accident object at 0x00000252B885C248>\n"
     ]
    }
   ],
   "source": [
    "for row in session.query(Accident).limit(2).all():\n",
    "    print(row)"
   ]
  },
  {
   "cell_type": "code",
   "execution_count": 38,
   "id": "7db5315a",
   "metadata": {},
   "outputs": [
    {
     "name": "stdout",
     "output_type": "stream",
     "text": [
      "SELECT accidents.id AS accidents_id, accidents.case_num AS accidents_case_num, accidents.veh_num AS accidents_veh_num, accidents.region AS accidents_region, accidents.region_num AS accidents_region_num, accidents.month AS accidents_month, accidents.hour AS accidents_hour, accidents.make AS accidents_make, accidents.passenger_inj AS accidents_passenger_inj, accidents.num_injured AS accidents_num_injured, accidents.alcohol_involved AS accidents_alcohol_involved, accidents.situation AS accidents_situation, accidents.road_condition AS accidents_road_condition, accidents.veh_damage AS accidents_veh_damage \n",
      "FROM accidents \n",
      "WHERE accidents.case_num = ?\n"
     ]
    }
   ],
   "source": [
    "print(accdt)"
   ]
  },
  {
   "cell_type": "code",
   "execution_count": null,
   "id": "f9c86193",
   "metadata": {},
   "outputs": [],
   "source": []
  }
 ],
 "metadata": {
  "kernelspec": {
   "display_name": "PythonData",
   "language": "python",
   "name": "pythondata"
  },
  "language_info": {
   "codemirror_mode": {
    "name": "ipython",
    "version": 3
   },
   "file_extension": ".py",
   "mimetype": "text/x-python",
   "name": "python",
   "nbconvert_exporter": "python",
   "pygments_lexer": "ipython3",
   "version": "3.7.7"
  }
 },
 "nbformat": 4,
 "nbformat_minor": 5
}
