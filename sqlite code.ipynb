{
 "cells": [
  {
   "cell_type": "code",
   "execution_count": 5,
   "id": "7f07c409",
   "metadata": {},
   "outputs": [
    {
     "ename": "SyntaxError",
     "evalue": "invalid syntax (1432412730.py, line 1)",
     "output_type": "error",
     "traceback": [
      "\u001b[1;36m  File \u001b[1;32m\"C:\\Users\\Isidore Lozano\\AppData\\Local\\Temp\\ipykernel_16780\\1432412730.py\"\u001b[1;36m, line \u001b[1;32m1\u001b[0m\n\u001b[1;33m    DROP TABLE IF EXISTS cities;\u001b[0m\n\u001b[1;37m             ^\u001b[0m\n\u001b[1;31mSyntaxError\u001b[0m\u001b[1;31m:\u001b[0m invalid syntax\n"
     ]
    }
   ],
   "source": []
  },
  {
   "cell_type": "code",
   "execution_count": 27,
   "id": "01b3c076",
   "metadata": {},
   "outputs": [
    {
     "name": "stdout",
     "output_type": "stream",
     "text": [
      "[('South (MD, DE, DC, WV, VA, KY, TN, NC, SC, GA, FL, AL, MS, LA, AR, OK, TX)',), ('South (MD, DE, DC, WV, VA, KY, TN, NC, SC, GA, FL, AL, MS, LA, AR, OK, TX)',), ('South (MD, DE, DC, WV, VA, KY, TN, NC, SC, GA, FL, AL, MS, LA, AR, OK, TX)',), ('South (MD, DE, DC, WV, VA, KY, TN, NC, SC, GA, FL, AL, MS, LA, AR, OK, TX)',), ('South (MD, DE, DC, WV, VA, KY, TN, NC, SC, GA, FL, AL, MS, LA, AR, OK, TX)',), ('South (MD, DE, DC, WV, VA, KY, TN, NC, SC, GA, FL, AL, MS, LA, AR, OK, TX)',), ('South (MD, DE, DC, WV, VA, KY, TN, NC, SC, GA, FL, AL, MS, LA, AR, OK, TX)',), ('South (MD, DE, DC, WV, VA, KY, TN, NC, SC, GA, FL, AL, MS, LA, AR, OK, TX)',), ('South (MD, DE, DC, WV, VA, KY, TN, NC, SC, GA, FL, AL, MS, LA, AR, OK, TX)',), ('South (MD, DE, DC, WV, VA, KY, TN, NC, SC, GA, FL, AL, MS, LA, AR, OK, TX)',)]\n"
     ]
    }
   ],
   "source": [
    "# Import sqlite3 module into\n",
    "# this program as sq\n",
    "import sqlite3 as sq\n",
    " \n",
    "# Import pandas module into\n",
    "# this program as pd\n",
    "import pandas as pd\n",
    "   \n",
    "# Create a connection object,\n",
    "# Make a new db if not exist already \n",
    "# and connect it, if exist then connect.\n",
    "connection = sq.connect('information.db')\n",
    " \n",
    "# Create a cursor object\n",
    "curs = connection.cursor()\n",
    " \n",
    "# Run create table sql query\n",
    "curs.execute(\"create table if not exists accidents\" +\n",
    "             \"(id INTEGER PRIMARY KEY AUTOINCREMENT, casenumber INTEGER NOT NULL, veh_no INTEGER NOT NULL, regionname STRING NOT NULL, region INTEGER NOT NULL, monthname STRING NOT NULL, hourname VARCHAR NOT NULL, makename STRING NOT NULL, mxsev_imname STRING NOT NULL, numinj_im INTEGER NOT NULL, v_alch_imname STRING NOT NULL, pcrash1_imname STRING NOT NULL, vsurcondname STRING NOT NULL, deformedname STRING NOT NULL)\")\n",
    "\n",
    "# Load CSV data into Pandas DataFrame\n",
    "student = pd.read_csv('veh_19.csv')\n",
    " \n",
    "# Write the data to a sqlite db table\n",
    "student.to_sql('accidents', connection, if_exists='replace', index=False)\n",
    "   \n",
    "# Run select sql \n",
    "curs.execute('select regionname from accidents limit 10')\n",
    " \n",
    "# Fetch all records\n",
    "# as list of tuples\n",
    "records = curs.fetchall()\n",
    "print(records)\n",
    "# Display result \n",
    "#for row in records:\n",
    "    # show row\n",
    "    #print(row)\n",
    "     \n",
    "# Close connection to SQLite database\n",
    "connection.close()"
   ]
  },
  {
   "cell_type": "code",
   "execution_count": 12,
   "id": "dd6d22ef",
   "metadata": {},
   "outputs": [
    {
     "ename": "OperationalError",
     "evalue": "unrecognized token: \"{\"",
     "output_type": "error",
     "traceback": [
      "\u001b[1;31m---------------------------------------------------------------------------\u001b[0m",
      "\u001b[1;31mOperationalError\u001b[0m                          Traceback (most recent call last)",
      "\u001b[1;32m~\\AppData\\Local\\Temp\\ipykernel_16780\\1806796946.py\u001b[0m in \u001b[0;36m<module>\u001b[1;34m\u001b[0m\n\u001b[0;32m     45\u001b[0m \u001b[1;31m# Importing the contents of the file\u001b[0m\u001b[1;33m\u001b[0m\u001b[1;33m\u001b[0m\u001b[1;33m\u001b[0m\u001b[0m\n\u001b[0;32m     46\u001b[0m \u001b[1;31m# into our person table\u001b[0m\u001b[1;33m\u001b[0m\u001b[1;33m\u001b[0m\u001b[1;33m\u001b[0m\u001b[0m\n\u001b[1;32m---> 47\u001b[1;33m \u001b[0mcursor\u001b[0m\u001b[1;33m.\u001b[0m\u001b[0mexecutemany\u001b[0m\u001b[1;33m(\u001b[0m\u001b[0minsert_records\u001b[0m\u001b[1;33m,\u001b[0m \u001b[0mcontents\u001b[0m\u001b[1;33m)\u001b[0m\u001b[1;33m\u001b[0m\u001b[1;33m\u001b[0m\u001b[0m\n\u001b[0m\u001b[0;32m     48\u001b[0m \u001b[1;33m\u001b[0m\u001b[0m\n\u001b[0;32m     49\u001b[0m \u001b[1;31m# SQL query to retrieve all data from\u001b[0m\u001b[1;33m\u001b[0m\u001b[1;33m\u001b[0m\u001b[1;33m\u001b[0m\u001b[0m\n",
      "\u001b[1;31mOperationalError\u001b[0m: unrecognized token: \"{\""
     ]
    }
   ],
   "source": [
    "# Import required modules\n",
    "import csv\n",
    "import sqlite3\n",
    " \n",
    "# Connecting to the geeks database\n",
    "connection = sqlite3.connect('g4g.db')\n",
    " \n",
    "# Creating a cursor object to execute\n",
    "# SQL queries on a database table\n",
    "cursor = connection.cursor()\n",
    " \n",
    "# Table Definition\n",
    "create_table = '''CREATE TABLE accidents(\n",
    "                id INTEGER PRIMARY KEY AUTOINCREMENT,\n",
    "                casenumber INTEGER NOT NULL,\n",
    "                veh_no INTEGER NOT NULL,\n",
    "                regionname STRING NOT NULL,\n",
    "                region INTEGER NOT NULL,\n",
    "                monthname STRING NOT NULL,\n",
    "                hourname VARCHAR NOT NULL,\n",
    "                makename STRING NOT NULL,\n",
    "                mxsev_imname STRING NOT NULL,\n",
    "                numinj_im INTEGER NOT NULL,\n",
    "                v_alch_imname STRING NOT NULL,\n",
    "                pcrash1_imname STRING NOT NULL,\n",
    "                vsurcondname STRING NOT NULL,\n",
    "                deformedname STRING NOT NULL);\n",
    "                '''\n",
    " \n",
    "# Creating the table into our\n",
    "# database\n",
    "\n",
    " \n",
    "# Opening the person-records.csv file\n",
    "file = open('veh_19.csv')\n",
    " \n",
    "# Reading the contents of the\n",
    "# person-records.csv file\n",
    "contents = csv.reader(file)\n",
    " \n",
    "# SQL query to insert data into the\n",
    "# person table\n",
    "insert_records = \"INSERT INTO accidents VALUES ({casenumber}, veh_no, regionname, region, monthname, hourname, makename, mxsev_imname, numinj_im, v_alch_imname, pcrash1_imname, vsurcondname, deformename) VALUES(INTEGER, INTEGER, STRING, INTEGER, STRING, INTEGER, VARCHAR, STRING, STRING, INTEGER, STRING, STRING, STRING, STRING)\"\n",
    " \n",
    "# Importing the contents of the file\n",
    "# into our person table\n",
    "cursor.executemany(insert_records, contents)\n",
    " \n",
    "# SQL query to retrieve all data from\n",
    "# the person table To verify that the\n",
    "# data of the csv file has been successfully\n",
    "# inserted into the table\n",
    "select_all = \"SELECT * FROM accidents\"\n",
    "rows = cursor.execute(select_all).fetchall()\n",
    " \n",
    "# Output to the console screen\n",
    "for r in rows:\n",
    "    print(r)\n",
    " \n",
    "# Committing the changes\n",
    "connection.commit()\n",
    " \n",
    "# closing the database connection\n",
    "connection.close()"
   ]
  },
  {
   "cell_type": "code",
   "execution_count": 2,
   "id": "ae764b0e",
   "metadata": {},
   "outputs": [
    {
     "ename": "SyntaxError",
     "evalue": "invalid syntax (4158723402.py, line 1)",
     "output_type": "error",
     "traceback": [
      "\u001b[1;36m  File \u001b[1;32m\"C:\\Users\\Isidore Lozano\\AppData\\Local\\Temp\\ipykernel_16780\\4158723402.py\"\u001b[1;36m, line \u001b[1;32m1\u001b[0m\n\u001b[1;33m    CREATE TABLE cities(\u001b[0m\n\u001b[1;37m               ^\u001b[0m\n\u001b[1;31mSyntaxError\u001b[0m\u001b[1;31m:\u001b[0m invalid syntax\n"
     ]
    }
   ],
   "source": []
  },
  {
   "cell_type": "code",
   "execution_count": null,
   "id": "f9e2b219",
   "metadata": {},
   "outputs": [],
   "source": []
  }
 ],
 "metadata": {
  "kernelspec": {
   "display_name": "Pythondata",
   "language": "python",
   "name": "pythondata"
  },
  "language_info": {
   "codemirror_mode": {
    "name": "ipython",
    "version": 3
   },
   "file_extension": ".py",
   "mimetype": "text/x-python",
   "name": "python",
   "nbconvert_exporter": "python",
   "pygments_lexer": "ipython3",
   "version": "3.7.7"
  }
 },
 "nbformat": 4,
 "nbformat_minor": 5
}
